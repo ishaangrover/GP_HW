{
 "cells": [
  {
   "cell_type": "code",
   "execution_count": 43,
   "metadata": {
    "collapsed": false
   },
   "outputs": [],
   "source": [
    "import scipy.io\n",
    "import GPy\n",
    "import numpy as np\n",
    "from sklearn.gaussian_process import GaussianProcessRegressor\n",
    "from sklearn.gaussian_process.kernels import RBF, ConstantKernel as C\n",
    "from sklearn.model_selection import train_test_split"
   ]
  },
  {
   "cell_type": "code",
   "execution_count": 44,
   "metadata": {
    "collapsed": false
   },
   "outputs": [],
   "source": [
    "def load_data(personalize=False):\n",
    "    mat1 = scipy.io.loadmat(\"parkinsonDatTr_correct.mat\")\n",
    "    mat2 =  scipy.io.loadmat(\"parkinsonDatTe_correct.mat\")\n",
    "\n",
    "    train_x = mat1[\"f_tr\"]\n",
    "    train_y = mat1[\"lab_tr\"]\n",
    "    train_sub_num = mat1[\"p_tr\"]\n",
    "    train_per_feat = mat1[\"pf_tr\"]\n",
    "\n",
    "    test_x = mat2[\"f_te\"]\n",
    "    test_y = mat2[\"lab_te\"]\n",
    "    test_sub_num = mat2[\"p_te\"]\n",
    "    test_per_feat = mat2[\"pf_te\"]\n",
    "    \n",
    "    if personalize:\n",
    "        train_x = np.concatenate((train_x, train_per_feat), axis=1)\n",
    "        test_x = np.concatenate((test_x, test_per_feat), axis=1)\n",
    "    \n",
    "    test_x = np.concatenate((test_x, test_sub_num), axis=1)\n",
    "    \n",
    "    test_x, pool_x, test_y, pool_y = train_test_split(test_x, test_y, test_size=0.5, random_state=42)\n",
    "    \n",
    "    test_sub_num = test_x[:, -1].reshape(test_x.shape[0], 1)\n",
    "    test_x = np.delete(test_x, test_x.shape[1]-1, axis=1)\n",
    "    \n",
    "    pool_sub_num = pool_x[:, -1].reshape(pool_x.shape[0], 1)\n",
    "    pool_x = np.delete(pool_x, pool_x.shape[1]-1, axis=1)\n",
    "    return train_x, train_y, test_x, test_y, pool_x, pool_y, train_sub_num, test_sub_num, pool_sub_num"
   ]
  },
  {
   "cell_type": "code",
   "execution_count": 45,
   "metadata": {
    "collapsed": true
   },
   "outputs": [],
   "source": [
    "def train(train_x, train_y, model=None):\n",
    "    kernel1 = GPy.kern.RBF(train_x.shape[1])\n",
    "    if model == None:\n",
    "        model = GPy.models.GPRegression(train_x, train_y.copy(), kernel=kernel1)\n",
    "    else:\n",
    "        model.set_XY(train_x, train_y)\n",
    "    model.optimize(messages=1)\n",
    "    return model"
   ]
  },
  {
   "cell_type": "code",
   "execution_count": 46,
   "metadata": {
    "collapsed": false
   },
   "outputs": [],
   "source": [
    "def predict_gp(model, test_x):\n",
    "    result = model.predict(test_x)\n",
    "    value = result[0][:, 0].reshape(test_x.shape[0], 1)\n",
    "    var = result[1]\n",
    "    std = var**0.5\n",
    "    model_variance = model.parameters[0].variance[0]\n",
    "    return value, std, model_variance"
   ]
  },
  {
   "cell_type": "code",
   "execution_count": 47,
   "metadata": {
    "collapsed": true
   },
   "outputs": [],
   "source": [
    "def find_MSE(y, y_pred):\n",
    "    y1 = y[:, 0]\n",
    "    y_pred1 = y_pred[:, 0]\n",
    "    return ((y1-y_pred1)**2).mean(), ((y1-y_pred1)**2).std()"
   ]
  },
  {
   "cell_type": "code",
   "execution_count": 48,
   "metadata": {
    "collapsed": false
   },
   "outputs": [],
   "source": [
    "def get_individual_data(test_x, test_y, test_sub_num):\n",
    "    sub_data = {}\n",
    "    sub_labels = {}\n",
    "    for i in range(0, test_x.shape[0]):\n",
    "        subject_num = test_sub_num[i][0]\n",
    "        try:\n",
    "            sub_data[subject_num]\n",
    "            sub_data[subject_num].append(test_x[i])\n",
    "        except:\n",
    "            sub_data[subject_num] = [test_x[i]]\n",
    "        try:\n",
    "            sub_labels[subject_num]\n",
    "            sub_labels[subject_num].append(test_y[i])\n",
    "        except:\n",
    "            sub_labels[subject_num] = [test_y[i]]\n",
    "    return sub_data, sub_labels"
   ]
  },
  {
   "cell_type": "code",
   "execution_count": 49,
   "metadata": {
    "collapsed": false
   },
   "outputs": [],
   "source": [
    "train_x, train_y, test_x, test_y, pool_x, pool_y, train_sub_num, test_sub_num, pool_sub_num = load_data(personalize=False)"
   ]
  },
  {
   "cell_type": "code",
   "execution_count": null,
   "metadata": {
    "collapsed": false
   },
   "outputs": [],
   "source": [
    "model = train(train_x, train_y)\n",
    "prediction, std, model_variance = predict_gp(model, test_x)"
   ]
  },
  {
   "cell_type": "code",
   "execution_count": 35,
   "metadata": {
    "collapsed": false
   },
   "outputs": [],
   "source": [
    "##find baseline\n",
    "def get_results(model, train_x, train_y, test_x, test_y):\n",
    "    final_results_baseline = {}\n",
    "    prediction, var, model_variance = predict_gp(model, test_x)\n",
    "    mean, std = find_MSE(prediction, test_y)\n",
    "    final_results_baseline[\"overall\"] = (mean, std)\n",
    "    subject_data, subject_labels = get_individual_data(test_x, test_y, test_sub_num)\n",
    "    for key in subject_data.keys():\n",
    "        data_x = np.array(subject_data[key])\n",
    "        data_y = np.array(subject_labels[key])\n",
    "        prediction, var, model_variance = predict_gp(model, data_x)\n",
    "        mean, std = find_MSE(prediction, data_y)\n",
    "        final_results_baseline[key] = (mean, std)\n",
    "    return final_results_baseline"
   ]
  },
  {
   "cell_type": "code",
   "execution_count": 36,
   "metadata": {
    "collapsed": false
   },
   "outputs": [],
   "source": [
    "final_results_baseline = get_results(model, train_x, train_y, test_x, test_y)"
   ]
  },
  {
   "cell_type": "code",
   "execution_count": 25,
   "metadata": {
    "collapsed": false
   },
   "outputs": [
    {
     "name": "stdout",
     "output_type": "stream",
     "text": [
      "(9, 16)\n",
      "(9, 2)\n",
      "(4396, 1)\n",
      "(10, 16)\n",
      "(10, 2)\n",
      "(4397, 1)\n",
      "================================\n"
     ]
    }
   ],
   "source": [
    "###AL1\n",
    "final_results_al1 = {}\n",
    "num_points_to_query = 1\n",
    "num_points_before_update = 1\n",
    "i = 0\n",
    "while i < num_points_to_query:\n",
    "    model = train(train_x, train_y, model)\n",
    "    final_results = get_results(model, train_x, train_y, test_x, test_y)\n",
    "    final_results_al1[i] = final_results\n",
    "    j = 0\n",
    "\n",
    "    while j < num_points_before_update:\n",
    "        pool_prediction, pool_std, model_variance = predict_gp(model, pool_x)\n",
    "        \n",
    "        max_variance_index = np.argmax(pool_std)\n",
    "        \n",
    "        max_variance_x = pool_x[max_variance_index, :].reshape(1, train_x.shape[1])\n",
    "        max_variance_y = pool_y[max_variance_index, :].reshape(1, train_y.shape[1])\n",
    "        max_variance_sub_num = pool_sub_num[max_variance_index, :].reshape(1, pool_sub_num.shape[1])\n",
    "        \n",
    "        pool_x = np.delete(pool_x, (max_variance_index), axis=0)\n",
    "        pool_y = np.delete(pool_y, (max_variance_index), axis=0)\n",
    "        pool_sub_num = np.delete(pool_sub_num, (max_variance_index), axis=0)\n",
    "        \n",
    "        train_x = np.concatenate((train_x, max_variance_x), axis=0)\n",
    "        train_y = np.concatenate((train_y, max_variance_y), axis=0)\n",
    "        train_sub_num = np.concatenate((train_sub_num, max_variance_sub_num), axis=0)\n",
    "        \n",
    "        j = j + 1\n",
    "        i = i + 1\n",
    "        \n"
   ]
  },
  {
   "cell_type": "code",
   "execution_count": 42,
   "metadata": {
    "collapsed": false
   },
   "outputs": [
    {
     "name": "stdout",
     "output_type": "stream",
     "text": [
      "\n"
     ]
    }
   ],
   "source": [
    "###AL2\n",
    "final_results_al2 = {}\n",
    "num_points_to_query = 1\n",
    "num_points_before_update = 1\n",
    "i = 0\n",
    "while i < num_points_to_query:\n",
    "    model = train(train_x, train_y, model)\n",
    "    final_results = get_results(model, train_x, train_y, test_x, test_y)\n",
    "    final_results_al2[i] = final_results\n",
    "    j = 0\n",
    "\n",
    "    while j < num_points_before_update:\n",
    "        pool_prediction, pool_std, model_variance = predict_gp(model, pool_x)\n",
    "        print \n",
    "        max_variance_index = np.argmin((pool_prediction[:, 0].reshape(pool_prediction.shape[0], 1)/((pool_std + model_variance)**0.5)))\n",
    "        \n",
    "        max_variance_x = pool_x[max_variance_index, :].reshape(1, train_x.shape[1])\n",
    "        max_variance_y = pool_y[max_variance_index, :].reshape(1, train_y.shape[1])\n",
    "        max_variance_sub_num = pool_sub_num[max_variance_index, :].reshape(1, pool_sub_num.shape[1])\n",
    "        \n",
    "        pool_x = np.delete(pool_x, (max_variance_index), axis=0)\n",
    "        pool_y = np.delete(pool_y, (max_variance_index), axis=0)\n",
    "        pool_sub_num = np.delete(pool_sub_num, (max_variance_index), axis=0)\n",
    "        \n",
    "        train_x = np.concatenate((train_x, max_variance_x), axis=0)\n",
    "        train_y = np.concatenate((train_y, max_variance_y), axis=0)\n",
    "        train_sub_num = np.concatenate((train_sub_num, max_variance_sub_num), axis=0)\n",
    "        \n",
    "        j = j + 1\n",
    "        i = i + 1"
   ]
  },
  {
   "cell_type": "code",
   "execution_count": null,
   "metadata": {
    "collapsed": true
   },
   "outputs": [],
   "source": []
  }
 ],
 "metadata": {
  "kernelspec": {
   "display_name": "Python 2",
   "language": "python",
   "name": "python2"
  },
  "language_info": {
   "codemirror_mode": {
    "name": "ipython",
    "version": 2
   },
   "file_extension": ".py",
   "mimetype": "text/x-python",
   "name": "python",
   "nbconvert_exporter": "python",
   "pygments_lexer": "ipython2",
   "version": "2.7.12"
  },
  "widgets": {
   "state": {
    "17a586ab53f646a2bec6a4dd76298e96": {
     "views": [
      {
       "cell_index": 7
      }
     ]
    },
    "a0964dca189a4cf1b30f9c4f23206fd1": {
     "views": [
      {
       "cell_index": 10
      }
     ]
    },
    "f7286569b1aa4a31902c2036a19c76c1": {
     "views": [
      {
       "cell_index": 11
      }
     ]
    }
   },
   "version": "1.2.0"
  }
 },
 "nbformat": 4,
 "nbformat_minor": 2
}
