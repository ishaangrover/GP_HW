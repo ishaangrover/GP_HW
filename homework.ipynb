{
 "cells": [
  {
   "cell_type": "code",
   "execution_count": 10,
   "metadata": {},
   "outputs": [],
   "source": [
    "import scipy.io\n",
    "import GPy\n",
    "import numpy as np\n",
    "from sklearn.gaussian_process import GaussianProcessRegressor\n",
    "from sklearn.gaussian_process.kernels import RBF, ConstantKernel as C\n",
    "from sklearn.model_selection import train_test_split"
   ]
  },
  {
   "cell_type": "code",
   "execution_count": 11,
   "metadata": {},
   "outputs": [],
   "source": [
    "def load_data(personalize=False):\n",
    "    mat1 = scipy.io.loadmat(\"parkinsonDatTr_correct.mat\")\n",
    "    mat2 =  scipy.io.loadmat(\"parkinsonDatTe_correct.mat\")\n",
    "\n",
    "    train_x = mat1[\"f_tr\"]\n",
    "    train_y = mat1[\"lab_tr\"]\n",
    "    train_sub_num = mat1[\"p_tr\"]\n",
    "    train_per_feat = mat1[\"pf_tr\"]\n",
    "\n",
    "    test_x = mat2[\"f_te\"]\n",
    "    test_y = mat2[\"lab_te\"]\n",
    "    test_sub_num = mat2[\"p_te\"]\n",
    "    test_per_feat = mat2[\"pf_te\"]\n",
    "    \n",
    "    if personalize:\n",
    "        train_x = np.concatenate((train_x, train_per_feat), axis=1)\n",
    "        test_x = np.concatenate((test_x, test_per_feat), axis=1)\n",
    "    \n",
    "    test_x = np.concatenate((test_x, test_sub_num), axis=1)\n",
    "    \n",
    "    test_x, pool_x, test_y, pool_y = train_test_split(test_x, test_y, test_size=0.5, random_state=42)\n",
    "    \n",
    "    test_sub_num = test_x[:, -1].reshape(test_x.shape[0], 1)\n",
    "    test_x = np.delete(test_x, test_x.shape[1]-1, axis=1)\n",
    "    \n",
    "    pool_sub_num = pool_x[:, -1].reshape(pool_x.shape[0], 1)\n",
    "    pool_x = np.delete(pool_x, pool_x.shape[1]-1, axis=1)\n",
    "    return train_x, train_y, test_x, test_y, pool_x, pool_y, train_sub_num, test_sub_num, pool_sub_num"
   ]
  },
  {
   "cell_type": "code",
   "execution_count": 12,
   "metadata": {
    "collapsed": true
   },
   "outputs": [],
   "source": [
    "def train(train_x, train_y, model=None):\n",
    "    kernel1 = GPy.kern.RBF(train_x.shape[1])\n",
    "    if model == None:\n",
    "        model = GPy.models.GPRegression(train_x, train_y.copy(), kernel=kernel1)\n",
    "    else:\n",
    "        model.set_XY(train_x, train_y)\n",
    "    model.optimize(messages=1)\n",
    "    return model"
   ]
  },
  {
   "cell_type": "code",
   "execution_count": 13,
   "metadata": {},
   "outputs": [],
   "source": [
    "def predict_gp(model, test_x):\n",
    "    result = model.predict(test_x)\n",
    "    value = result[0][:, 0].reshape(test_x.shape[0], 1)\n",
    "    var = result[1]\n",
    "    std = var**0.5\n",
    "    model_variance = model.parameters[0].variance[0]\n",
    "    return value, std, model_variance"
   ]
  },
  {
   "cell_type": "code",
   "execution_count": 14,
   "metadata": {
    "collapsed": true
   },
   "outputs": [],
   "source": [
    "def find_MSE(y, y_pred):\n",
    "    y1 = y[:, 0]\n",
    "    y_pred1 = y_pred[:, 0]\n",
    "    return ((y1-y_pred1)**2).mean(), ((y1-y_pred1)**2).std()"
   ]
  },
  {
   "cell_type": "code",
   "execution_count": 15,
   "metadata": {},
   "outputs": [],
   "source": [
    "def get_individual_data(test_x, test_y, test_sub_num):\n",
    "    sub_data = {}\n",
    "    sub_labels = {}\n",
    "    for i in range(0, test_x.shape[0]):\n",
    "        subject_num = test_sub_num[i][0]\n",
    "        try:\n",
    "            sub_data[subject_num]\n",
    "            sub_data[subject_num].append(test_x[i])\n",
    "        except:\n",
    "            sub_data[subject_num] = [test_x[i]]\n",
    "        try:\n",
    "            sub_labels[subject_num]\n",
    "            sub_labels[subject_num].append(test_y[i])\n",
    "        except:\n",
    "            sub_labels[subject_num] = [test_y[i]]\n",
    "    return sub_data, sub_labels"
   ]
  },
  {
   "cell_type": "code",
   "execution_count": 27,
   "metadata": {},
   "outputs": [],
   "source": [
    "train_x, train_y, test_x, test_y, pool_x, pool_y, train_sub_num, test_sub_num, pool_sub_num = load_data(personalize=True)"
   ]
  },
  {
   "cell_type": "code",
   "execution_count": 28,
   "metadata": {},
   "outputs": [
    {
     "ename": "KeyboardInterrupt",
     "evalue": "",
     "output_type": "error",
     "traceback": [
      "\u001b[0;31m---------------------------------------------------------------------------\u001b[0m",
      "\u001b[0;31mKeyboardInterrupt\u001b[0m                         Traceback (most recent call last)",
      "\u001b[0;32m<ipython-input-28-e9aafe589438>\u001b[0m in \u001b[0;36m<module>\u001b[0;34m()\u001b[0m\n\u001b[0;32m----> 1\u001b[0;31m \u001b[0mmodel\u001b[0m \u001b[0;34m=\u001b[0m \u001b[0mtrain\u001b[0m\u001b[0;34m(\u001b[0m\u001b[0mtrain_x\u001b[0m\u001b[0;34m,\u001b[0m \u001b[0mtrain_y\u001b[0m\u001b[0;34m)\u001b[0m\u001b[0;34m\u001b[0m\u001b[0m\n\u001b[0m\u001b[1;32m      2\u001b[0m \u001b[0mprediction\u001b[0m\u001b[0;34m,\u001b[0m \u001b[0mstd\u001b[0m\u001b[0;34m,\u001b[0m \u001b[0mmodel_variance\u001b[0m \u001b[0;34m=\u001b[0m \u001b[0mpredict_gp\u001b[0m\u001b[0;34m(\u001b[0m\u001b[0mmodel\u001b[0m\u001b[0;34m,\u001b[0m \u001b[0mtest_x\u001b[0m\u001b[0;34m)\u001b[0m\u001b[0;34m\u001b[0m\u001b[0m\n",
      "\u001b[0;32m<ipython-input-12-5047256f0152>\u001b[0m in \u001b[0;36mtrain\u001b[0;34m(train_x, train_y, model)\u001b[0m\n\u001b[1;32m      2\u001b[0m     \u001b[0mkernel1\u001b[0m \u001b[0;34m=\u001b[0m \u001b[0mGPy\u001b[0m\u001b[0;34m.\u001b[0m\u001b[0mkern\u001b[0m\u001b[0;34m.\u001b[0m\u001b[0mRBF\u001b[0m\u001b[0;34m(\u001b[0m\u001b[0mtrain_x\u001b[0m\u001b[0;34m.\u001b[0m\u001b[0mshape\u001b[0m\u001b[0;34m[\u001b[0m\u001b[0;36m1\u001b[0m\u001b[0;34m]\u001b[0m\u001b[0;34m)\u001b[0m\u001b[0;34m\u001b[0m\u001b[0m\n\u001b[1;32m      3\u001b[0m     \u001b[0;32mif\u001b[0m \u001b[0mmodel\u001b[0m \u001b[0;34m==\u001b[0m \u001b[0mNone\u001b[0m\u001b[0;34m:\u001b[0m\u001b[0;34m\u001b[0m\u001b[0m\n\u001b[0;32m----> 4\u001b[0;31m         \u001b[0mmodel\u001b[0m \u001b[0;34m=\u001b[0m \u001b[0mGPy\u001b[0m\u001b[0;34m.\u001b[0m\u001b[0mmodels\u001b[0m\u001b[0;34m.\u001b[0m\u001b[0mGPRegression\u001b[0m\u001b[0;34m(\u001b[0m\u001b[0mtrain_x\u001b[0m\u001b[0;34m,\u001b[0m \u001b[0mtrain_y\u001b[0m\u001b[0;34m.\u001b[0m\u001b[0mcopy\u001b[0m\u001b[0;34m(\u001b[0m\u001b[0;34m)\u001b[0m\u001b[0;34m,\u001b[0m \u001b[0mkernel\u001b[0m\u001b[0;34m=\u001b[0m\u001b[0mkernel1\u001b[0m\u001b[0;34m)\u001b[0m\u001b[0;34m\u001b[0m\u001b[0m\n\u001b[0m\u001b[1;32m      5\u001b[0m     \u001b[0;32melse\u001b[0m\u001b[0;34m:\u001b[0m\u001b[0;34m\u001b[0m\u001b[0m\n\u001b[1;32m      6\u001b[0m         \u001b[0mmodel\u001b[0m\u001b[0;34m.\u001b[0m\u001b[0mset_XY\u001b[0m\u001b[0;34m(\u001b[0m\u001b[0mtrain_x\u001b[0m\u001b[0;34m,\u001b[0m \u001b[0mtrain_y\u001b[0m\u001b[0;34m)\u001b[0m\u001b[0;34m\u001b[0m\u001b[0m\n",
      "\u001b[0;32m/usr/local/lib/python2.7/site-packages/paramz/parameterized.pyc\u001b[0m in \u001b[0;36m__call__\u001b[0;34m(self, *args, **kw)\u001b[0m\n\u001b[1;32m     52\u001b[0m         \u001b[0mself\u001b[0m\u001b[0;34m.\u001b[0m\u001b[0m_model_initialized_\u001b[0m \u001b[0;34m=\u001b[0m \u001b[0mFalse\u001b[0m\u001b[0;34m\u001b[0m\u001b[0m\n\u001b[1;32m     53\u001b[0m         \u001b[0;32mif\u001b[0m \u001b[0minitialize\u001b[0m\u001b[0;34m:\u001b[0m\u001b[0;34m\u001b[0m\u001b[0m\n\u001b[0;32m---> 54\u001b[0;31m             \u001b[0mself\u001b[0m\u001b[0;34m.\u001b[0m\u001b[0minitialize_parameter\u001b[0m\u001b[0;34m(\u001b[0m\u001b[0;34m)\u001b[0m\u001b[0;34m\u001b[0m\u001b[0m\n\u001b[0m\u001b[1;32m     55\u001b[0m         \u001b[0;32melse\u001b[0m\u001b[0;34m:\u001b[0m\u001b[0;34m\u001b[0m\u001b[0m\n\u001b[1;32m     56\u001b[0m             \u001b[0;32mimport\u001b[0m \u001b[0mwarnings\u001b[0m\u001b[0;34m\u001b[0m\u001b[0m\n",
      "\u001b[0;32m/usr/local/lib/python2.7/site-packages/paramz/core/parameter_core.pyc\u001b[0m in \u001b[0;36minitialize_parameter\u001b[0;34m(self)\u001b[0m\n\u001b[1;32m    329\u001b[0m         \u001b[0mself\u001b[0m\u001b[0;34m.\u001b[0m\u001b[0m_highest_parent_\u001b[0m\u001b[0;34m.\u001b[0m\u001b[0m_connect_parameters\u001b[0m\u001b[0;34m(\u001b[0m\u001b[0;34m)\u001b[0m \u001b[0;31m#logger.debug(\"calling parameters changed\")\u001b[0m\u001b[0;34m\u001b[0m\u001b[0m\n\u001b[1;32m    330\u001b[0m         \u001b[0mself\u001b[0m\u001b[0;34m.\u001b[0m\u001b[0m_highest_parent_\u001b[0m\u001b[0;34m.\u001b[0m\u001b[0m_connect_fixes\u001b[0m\u001b[0;34m(\u001b[0m\u001b[0;34m)\u001b[0m\u001b[0;34m\u001b[0m\u001b[0m\n\u001b[0;32m--> 331\u001b[0;31m         \u001b[0mself\u001b[0m\u001b[0;34m.\u001b[0m\u001b[0mtrigger_update\u001b[0m\u001b[0;34m(\u001b[0m\u001b[0;34m)\u001b[0m\u001b[0;34m\u001b[0m\u001b[0m\n\u001b[0m\u001b[1;32m    332\u001b[0m \u001b[0;34m\u001b[0m\u001b[0m\n\u001b[1;32m    333\u001b[0m     \u001b[0;34m@\u001b[0m\u001b[0mproperty\u001b[0m\u001b[0;34m\u001b[0m\u001b[0m\n",
      "\u001b[0;32m/usr/local/lib/python2.7/site-packages/paramz/core/updateable.pyc\u001b[0m in \u001b[0;36mtrigger_update\u001b[0;34m(self, trigger_parent)\u001b[0m\n\u001b[1;32m     77\u001b[0m             \u001b[0;31m#print \"Warning: updates are off, updating the model will do nothing\"\u001b[0m\u001b[0;34m\u001b[0m\u001b[0;34m\u001b[0m\u001b[0m\n\u001b[1;32m     78\u001b[0m             \u001b[0;32mreturn\u001b[0m\u001b[0;34m\u001b[0m\u001b[0m\n\u001b[0;32m---> 79\u001b[0;31m         \u001b[0mself\u001b[0m\u001b[0;34m.\u001b[0m\u001b[0m_trigger_params_changed\u001b[0m\u001b[0;34m(\u001b[0m\u001b[0mtrigger_parent\u001b[0m\u001b[0;34m)\u001b[0m\u001b[0;34m\u001b[0m\u001b[0m\n\u001b[0m",
      "\u001b[0;32m/usr/local/lib/python2.7/site-packages/paramz/core/parameter_core.pyc\u001b[0m in \u001b[0;36m_trigger_params_changed\u001b[0;34m(self, trigger_parent)\u001b[0m\n\u001b[1;32m    126\u001b[0m         \"\"\"\n\u001b[1;32m    127\u001b[0m         \u001b[0;34m[\u001b[0m\u001b[0mp\u001b[0m\u001b[0;34m.\u001b[0m\u001b[0m_trigger_params_changed\u001b[0m\u001b[0;34m(\u001b[0m\u001b[0mtrigger_parent\u001b[0m\u001b[0;34m=\u001b[0m\u001b[0mFalse\u001b[0m\u001b[0;34m)\u001b[0m \u001b[0;32mfor\u001b[0m \u001b[0mp\u001b[0m \u001b[0;32min\u001b[0m \u001b[0mself\u001b[0m\u001b[0;34m.\u001b[0m\u001b[0mparameters\u001b[0m \u001b[0;32mif\u001b[0m \u001b[0;32mnot\u001b[0m \u001b[0mp\u001b[0m\u001b[0;34m.\u001b[0m\u001b[0mis_fixed\u001b[0m\u001b[0;34m]\u001b[0m\u001b[0;34m\u001b[0m\u001b[0m\n\u001b[0;32m--> 128\u001b[0;31m         \u001b[0mself\u001b[0m\u001b[0;34m.\u001b[0m\u001b[0mnotify_observers\u001b[0m\u001b[0;34m(\u001b[0m\u001b[0mNone\u001b[0m\u001b[0;34m,\u001b[0m \u001b[0mNone\u001b[0m \u001b[0;32mif\u001b[0m \u001b[0mtrigger_parent\u001b[0m \u001b[0;32melse\u001b[0m \u001b[0;34m-\u001b[0m\u001b[0mnp\u001b[0m\u001b[0;34m.\u001b[0m\u001b[0minf\u001b[0m\u001b[0;34m)\u001b[0m\u001b[0;34m\u001b[0m\u001b[0m\n\u001b[0m\u001b[1;32m    129\u001b[0m \u001b[0;34m\u001b[0m\u001b[0m\n\u001b[1;32m    130\u001b[0m     \u001b[0;32mdef\u001b[0m \u001b[0m_size_transformed\u001b[0m\u001b[0;34m(\u001b[0m\u001b[0mself\u001b[0m\u001b[0;34m)\u001b[0m\u001b[0;34m:\u001b[0m\u001b[0;34m\u001b[0m\u001b[0m\n",
      "\u001b[0;32m/usr/local/lib/python2.7/site-packages/paramz/core/observable.pyc\u001b[0m in \u001b[0;36mnotify_observers\u001b[0;34m(self, which, min_priority)\u001b[0m\n\u001b[1;32m     89\u001b[0m                 \u001b[0mwhich\u001b[0m \u001b[0;34m=\u001b[0m \u001b[0mself\u001b[0m\u001b[0;34m\u001b[0m\u001b[0m\n\u001b[1;32m     90\u001b[0m             \u001b[0;32mif\u001b[0m \u001b[0mmin_priority\u001b[0m \u001b[0;32mis\u001b[0m \u001b[0mNone\u001b[0m\u001b[0;34m:\u001b[0m\u001b[0;34m\u001b[0m\u001b[0m\n\u001b[0;32m---> 91\u001b[0;31m                 \u001b[0;34m[\u001b[0m\u001b[0mcallble\u001b[0m\u001b[0;34m(\u001b[0m\u001b[0mself\u001b[0m\u001b[0;34m,\u001b[0m \u001b[0mwhich\u001b[0m\u001b[0;34m=\u001b[0m\u001b[0mwhich\u001b[0m\u001b[0;34m)\u001b[0m \u001b[0;32mfor\u001b[0m \u001b[0m_\u001b[0m\u001b[0;34m,\u001b[0m \u001b[0m_\u001b[0m\u001b[0;34m,\u001b[0m \u001b[0mcallble\u001b[0m \u001b[0;32min\u001b[0m \u001b[0mself\u001b[0m\u001b[0;34m.\u001b[0m\u001b[0mobservers\u001b[0m\u001b[0;34m]\u001b[0m\u001b[0;34m\u001b[0m\u001b[0m\n\u001b[0m\u001b[1;32m     92\u001b[0m             \u001b[0;32melse\u001b[0m\u001b[0;34m:\u001b[0m\u001b[0;34m\u001b[0m\u001b[0m\n\u001b[1;32m     93\u001b[0m                 \u001b[0;32mfor\u001b[0m \u001b[0mp\u001b[0m\u001b[0;34m,\u001b[0m \u001b[0m_\u001b[0m\u001b[0;34m,\u001b[0m \u001b[0mcallble\u001b[0m \u001b[0;32min\u001b[0m \u001b[0mself\u001b[0m\u001b[0;34m.\u001b[0m\u001b[0mobservers\u001b[0m\u001b[0;34m:\u001b[0m\u001b[0;34m\u001b[0m\u001b[0m\n",
      "\u001b[0;32m/usr/local/lib/python2.7/site-packages/paramz/core/parameter_core.pyc\u001b[0m in \u001b[0;36m_parameters_changed_notification\u001b[0;34m(self, me, which)\u001b[0m\n\u001b[1;32m    496\u001b[0m         \"\"\"\n\u001b[1;32m    497\u001b[0m         \u001b[0mself\u001b[0m\u001b[0;34m.\u001b[0m\u001b[0m_optimizer_copy_transformed\u001b[0m \u001b[0;34m=\u001b[0m \u001b[0mFalse\u001b[0m \u001b[0;31m# tells the optimizer array to update on next request\u001b[0m\u001b[0;34m\u001b[0m\u001b[0m\n\u001b[0;32m--> 498\u001b[0;31m         \u001b[0mself\u001b[0m\u001b[0;34m.\u001b[0m\u001b[0mparameters_changed\u001b[0m\u001b[0;34m(\u001b[0m\u001b[0;34m)\u001b[0m\u001b[0;34m\u001b[0m\u001b[0m\n\u001b[0m\u001b[1;32m    499\u001b[0m     \u001b[0;32mdef\u001b[0m \u001b[0m_pass_through_notify_observers\u001b[0m\u001b[0;34m(\u001b[0m\u001b[0mself\u001b[0m\u001b[0;34m,\u001b[0m \u001b[0mme\u001b[0m\u001b[0;34m,\u001b[0m \u001b[0mwhich\u001b[0m\u001b[0;34m=\u001b[0m\u001b[0mNone\u001b[0m\u001b[0;34m)\u001b[0m\u001b[0;34m:\u001b[0m\u001b[0;34m\u001b[0m\u001b[0m\n\u001b[1;32m    500\u001b[0m         \u001b[0mself\u001b[0m\u001b[0;34m.\u001b[0m\u001b[0mnotify_observers\u001b[0m\u001b[0;34m(\u001b[0m\u001b[0mwhich\u001b[0m\u001b[0;34m=\u001b[0m\u001b[0mwhich\u001b[0m\u001b[0;34m)\u001b[0m\u001b[0;34m\u001b[0m\u001b[0m\n",
      "\u001b[0;32m/usr/local/lib/python2.7/site-packages/GPy/core/gp.pyc\u001b[0m in \u001b[0;36mparameters_changed\u001b[0;34m(self)\u001b[0m\n\u001b[1;32m    191\u001b[0m             \u001b[0mthis\u001b[0m \u001b[0mmethod\u001b[0m \u001b[0myourself\u001b[0m\u001b[0;34m,\u001b[0m \u001b[0mthere\u001b[0m \u001b[0mmay\u001b[0m \u001b[0mbe\u001b[0m \u001b[0munexpected\u001b[0m \u001b[0mconsequences\u001b[0m\u001b[0;34m.\u001b[0m\u001b[0;34m\u001b[0m\u001b[0m\n\u001b[1;32m    192\u001b[0m         \"\"\"\n\u001b[0;32m--> 193\u001b[0;31m         \u001b[0mself\u001b[0m\u001b[0;34m.\u001b[0m\u001b[0mposterior\u001b[0m\u001b[0;34m,\u001b[0m \u001b[0mself\u001b[0m\u001b[0;34m.\u001b[0m\u001b[0m_log_marginal_likelihood\u001b[0m\u001b[0;34m,\u001b[0m \u001b[0mself\u001b[0m\u001b[0;34m.\u001b[0m\u001b[0mgrad_dict\u001b[0m \u001b[0;34m=\u001b[0m \u001b[0mself\u001b[0m\u001b[0;34m.\u001b[0m\u001b[0minference_method\u001b[0m\u001b[0;34m.\u001b[0m\u001b[0minference\u001b[0m\u001b[0;34m(\u001b[0m\u001b[0mself\u001b[0m\u001b[0;34m.\u001b[0m\u001b[0mkern\u001b[0m\u001b[0;34m,\u001b[0m \u001b[0mself\u001b[0m\u001b[0;34m.\u001b[0m\u001b[0mX\u001b[0m\u001b[0;34m,\u001b[0m \u001b[0mself\u001b[0m\u001b[0;34m.\u001b[0m\u001b[0mlikelihood\u001b[0m\u001b[0;34m,\u001b[0m \u001b[0mself\u001b[0m\u001b[0;34m.\u001b[0m\u001b[0mY_normalized\u001b[0m\u001b[0;34m,\u001b[0m \u001b[0mself\u001b[0m\u001b[0;34m.\u001b[0m\u001b[0mmean_function\u001b[0m\u001b[0;34m,\u001b[0m \u001b[0mself\u001b[0m\u001b[0;34m.\u001b[0m\u001b[0mY_metadata\u001b[0m\u001b[0;34m)\u001b[0m\u001b[0;34m\u001b[0m\u001b[0m\n\u001b[0m\u001b[1;32m    194\u001b[0m         \u001b[0mself\u001b[0m\u001b[0;34m.\u001b[0m\u001b[0mlikelihood\u001b[0m\u001b[0;34m.\u001b[0m\u001b[0mupdate_gradients\u001b[0m\u001b[0;34m(\u001b[0m\u001b[0mself\u001b[0m\u001b[0;34m.\u001b[0m\u001b[0mgrad_dict\u001b[0m\u001b[0;34m[\u001b[0m\u001b[0;34m'dL_dthetaL'\u001b[0m\u001b[0;34m]\u001b[0m\u001b[0;34m)\u001b[0m\u001b[0;34m\u001b[0m\u001b[0m\n\u001b[1;32m    195\u001b[0m         \u001b[0mself\u001b[0m\u001b[0;34m.\u001b[0m\u001b[0mkern\u001b[0m\u001b[0;34m.\u001b[0m\u001b[0mupdate_gradients_full\u001b[0m\u001b[0;34m(\u001b[0m\u001b[0mself\u001b[0m\u001b[0;34m.\u001b[0m\u001b[0mgrad_dict\u001b[0m\u001b[0;34m[\u001b[0m\u001b[0;34m'dL_dK'\u001b[0m\u001b[0;34m]\u001b[0m\u001b[0;34m,\u001b[0m \u001b[0mself\u001b[0m\u001b[0;34m.\u001b[0m\u001b[0mX\u001b[0m\u001b[0;34m)\u001b[0m\u001b[0;34m\u001b[0m\u001b[0m\n",
      "\u001b[0;32m/usr/local/lib/python2.7/site-packages/GPy/inference/latent_function_inference/exact_gaussian_inference.pyc\u001b[0m in \u001b[0;36minference\u001b[0;34m(self, kern, X, likelihood, Y, mean_function, Y_metadata, K, variance, Z_tilde)\u001b[0m\n\u001b[1;32m     43\u001b[0m         \u001b[0mdiag\u001b[0m\u001b[0;34m.\u001b[0m\u001b[0madd\u001b[0m\u001b[0;34m(\u001b[0m\u001b[0mKy\u001b[0m\u001b[0;34m,\u001b[0m \u001b[0mvariance\u001b[0m\u001b[0;34m+\u001b[0m\u001b[0;36m1e-8\u001b[0m\u001b[0;34m)\u001b[0m\u001b[0;34m\u001b[0m\u001b[0m\n\u001b[1;32m     44\u001b[0m \u001b[0;34m\u001b[0m\u001b[0m\n\u001b[0;32m---> 45\u001b[0;31m         \u001b[0mWi\u001b[0m\u001b[0;34m,\u001b[0m \u001b[0mLW\u001b[0m\u001b[0;34m,\u001b[0m \u001b[0mLWi\u001b[0m\u001b[0;34m,\u001b[0m \u001b[0mW_logdet\u001b[0m \u001b[0;34m=\u001b[0m \u001b[0mpdinv\u001b[0m\u001b[0;34m(\u001b[0m\u001b[0mKy\u001b[0m\u001b[0;34m)\u001b[0m\u001b[0;34m\u001b[0m\u001b[0m\n\u001b[0m\u001b[1;32m     46\u001b[0m \u001b[0;34m\u001b[0m\u001b[0m\n\u001b[1;32m     47\u001b[0m         \u001b[0malpha\u001b[0m\u001b[0;34m,\u001b[0m \u001b[0m_\u001b[0m \u001b[0;34m=\u001b[0m \u001b[0mdpotrs\u001b[0m\u001b[0;34m(\u001b[0m\u001b[0mLW\u001b[0m\u001b[0;34m,\u001b[0m \u001b[0mYYT_factor\u001b[0m\u001b[0;34m,\u001b[0m \u001b[0mlower\u001b[0m\u001b[0;34m=\u001b[0m\u001b[0;36m1\u001b[0m\u001b[0;34m)\u001b[0m\u001b[0;34m\u001b[0m\u001b[0m\n",
      "\u001b[0;32m/usr/local/lib/python2.7/site-packages/GPy/util/linalg.pyc\u001b[0m in \u001b[0;36mpdinv\u001b[0;34m(A, *args)\u001b[0m\n\u001b[1;32m    209\u001b[0m     \u001b[0mlogdet\u001b[0m \u001b[0;34m=\u001b[0m \u001b[0;36m2.\u001b[0m\u001b[0;34m*\u001b[0m\u001b[0mnp\u001b[0m\u001b[0;34m.\u001b[0m\u001b[0msum\u001b[0m\u001b[0;34m(\u001b[0m\u001b[0mnp\u001b[0m\u001b[0;34m.\u001b[0m\u001b[0mlog\u001b[0m\u001b[0;34m(\u001b[0m\u001b[0mnp\u001b[0m\u001b[0;34m.\u001b[0m\u001b[0mdiag\u001b[0m\u001b[0;34m(\u001b[0m\u001b[0mL\u001b[0m\u001b[0;34m)\u001b[0m\u001b[0;34m)\u001b[0m\u001b[0;34m)\u001b[0m\u001b[0;34m\u001b[0m\u001b[0m\n\u001b[1;32m    210\u001b[0m     \u001b[0mLi\u001b[0m \u001b[0;34m=\u001b[0m \u001b[0mdtrtri\u001b[0m\u001b[0;34m(\u001b[0m\u001b[0mL\u001b[0m\u001b[0;34m)\u001b[0m\u001b[0;34m\u001b[0m\u001b[0m\n\u001b[0;32m--> 211\u001b[0;31m     \u001b[0mAi\u001b[0m\u001b[0;34m,\u001b[0m \u001b[0m_\u001b[0m \u001b[0;34m=\u001b[0m \u001b[0mdpotri\u001b[0m\u001b[0;34m(\u001b[0m\u001b[0mL\u001b[0m\u001b[0;34m,\u001b[0m \u001b[0mlower\u001b[0m\u001b[0;34m=\u001b[0m\u001b[0;36m1\u001b[0m\u001b[0;34m)\u001b[0m\u001b[0;34m\u001b[0m\u001b[0m\n\u001b[0m\u001b[1;32m    212\u001b[0m     \u001b[0;31m# Ai = np.tril(Ai) + np.tril(Ai,-1).T\u001b[0m\u001b[0;34m\u001b[0m\u001b[0;34m\u001b[0m\u001b[0m\n\u001b[1;32m    213\u001b[0m     \u001b[0msymmetrify\u001b[0m\u001b[0;34m(\u001b[0m\u001b[0mAi\u001b[0m\u001b[0;34m)\u001b[0m\u001b[0;34m\u001b[0m\u001b[0m\n",
      "\u001b[0;32m/usr/local/lib/python2.7/site-packages/GPy/util/linalg.pyc\u001b[0m in \u001b[0;36mdpotri\u001b[0;34m(A, lower)\u001b[0m\n\u001b[1;32m    141\u001b[0m \u001b[0;34m\u001b[0m\u001b[0m\n\u001b[1;32m    142\u001b[0m     \u001b[0mA\u001b[0m \u001b[0;34m=\u001b[0m \u001b[0mforce_F_ordered\u001b[0m\u001b[0;34m(\u001b[0m\u001b[0mA\u001b[0m\u001b[0;34m)\u001b[0m\u001b[0;34m\u001b[0m\u001b[0m\n\u001b[0;32m--> 143\u001b[0;31m     \u001b[0mR\u001b[0m\u001b[0;34m,\u001b[0m \u001b[0minfo\u001b[0m \u001b[0;34m=\u001b[0m \u001b[0mlapack\u001b[0m\u001b[0;34m.\u001b[0m\u001b[0mdpotri\u001b[0m\u001b[0;34m(\u001b[0m\u001b[0mA\u001b[0m\u001b[0;34m,\u001b[0m \u001b[0mlower\u001b[0m\u001b[0;34m=\u001b[0m\u001b[0mlower\u001b[0m\u001b[0;34m)\u001b[0m \u001b[0;31m#needs to be zero here, seems to be a scipy bug\u001b[0m\u001b[0;34m\u001b[0m\u001b[0m\n\u001b[0m\u001b[1;32m    144\u001b[0m \u001b[0;34m\u001b[0m\u001b[0m\n\u001b[1;32m    145\u001b[0m     \u001b[0msymmetrify\u001b[0m\u001b[0;34m(\u001b[0m\u001b[0mR\u001b[0m\u001b[0;34m)\u001b[0m\u001b[0;34m\u001b[0m\u001b[0m\n",
      "\u001b[0;31mKeyboardInterrupt\u001b[0m: "
     ]
    }
   ],
   "source": [
    "model = train(train_x, train_y)\n",
    "prediction, std, model_variance = predict_gp(model, test_x)"
   ]
  },
  {
   "cell_type": "code",
   "execution_count": 29,
   "metadata": {},
   "outputs": [],
   "source": [
    "##find baseline\n",
    "def get_results(model, train_x, train_y, test_x, test_y):\n",
    "    final_results_baseline = {}\n",
    "    prediction, var, model_variance = predict_gp(model, test_x)\n",
    "    mean, std = find_MSE(prediction, test_y)\n",
    "    final_results_baseline[\"overall\"] = (mean, std)\n",
    "    subject_data, subject_labels = get_individual_data(test_x, test_y, test_sub_num)\n",
    "    for key in subject_data.keys():\n",
    "        data_x = np.array(subject_data[key])\n",
    "        data_y = np.array(subject_labels[key])\n",
    "        prediction, var, model_variance = predict_gp(model, data_x)\n",
    "        mean, std = find_MSE(prediction, data_y)\n",
    "        final_results_baseline[key] = (mean, std)\n",
    "    return final_results_baseline"
   ]
  },
  {
   "cell_type": "code",
   "execution_count": 30,
   "metadata": {},
   "outputs": [
    {
     "name": "stdout",
     "output_type": "stream",
     "text": [
      "{33.0: (0.000890335667206219, 0.002436647304971899), 34.0: (0.007679801554636552, 0.0045951500942287811), 35.0: (0.010549841094458216, 0.0075962314545742326), 36.0: (0.0023760675393333913, 0.004311179808224954), 37.0: (0.022743534721514642, 0.016240356721905099), 38.0: (0.0047498446509856053, 0.010511841914811717), 39.0: (0.021074744422499979, 0.015444221565963149), 40.0: (0.00022332423491178518, 0.00050907797694900046), 41.0: (0.0014250721333938169, 0.0019512902411784586), 42.0: (0.0066364457855910214, 0.0056183698474859146), 'overall': (0.0076960736621498405, 0.011381051962419664)}\n"
     ]
    }
   ],
   "source": [
    "final_results_baseline = get_results(model, train_x, train_y, test_x, test_y)\n",
    "print final_results_baseline"
   ]
  },
  {
   "cell_type": "code",
   "execution_count": 31,
   "metadata": {},
   "outputs": [
    {
     "name": "stdout",
     "output_type": "stream",
     "text": [
      "Running L-BFGS-B (Scipy implementation) Code:\n",
      "  runtime   i      f              |g|        \n",
      "    18s19  0003  -1.367909e+04   7.152713e+03 \n",
      " 01m00s19  0010  -1.368226e+04   4.125685e-05 \n",
      "Runtime:  01m00s19\n",
      "Optimization status: Converged\n",
      "\n",
      "number of points done: 100\n",
      "Running L-BFGS-B (Scipy implementation) Code:\n",
      "  runtime   i      f              |g|        \n",
      "    26s13  0004  -1.382946e+04   6.191818e+03 \n",
      " 01m04s87  0010  -1.383243e+04   6.408711e-07 \n",
      "Runtime:  01m04s87\n",
      "Optimization status: Converged\n",
      "\n",
      "number of points done: 200\n",
      "Running L-BFGS-B (Scipy implementation) Code:\n",
      "  runtime   i      f              |g|        \n",
      "    47s65  0007  -1.414410e+04   6.545606e-01 \n",
      " 01m21s56  0012  -1.414410e+04   1.851685e-04 \n",
      "Runtime:  01m21s56\n",
      "Optimization status: Converged\n",
      "\n",
      "number of points done: 300\n",
      "Running L-BFGS-B (Scipy implementation) Code:\n",
      "  runtime   i      f              |g|        \n",
      "    28s93  0004  -1.422899e+04   1.054345e+03 \n",
      " 01m33s26  0013  -1.422988e+04   2.163938e-04 \n",
      "Runtime:  01m33s26\n",
      "Optimization status: Converged\n",
      "\n",
      "number of points done: 400\n",
      "Running L-BFGS-B (Scipy implementation) Code:\n",
      "  runtime   i      f              |g|        \n",
      "    15s00  0002  -8.916862e+03   9.621390e+07 \n",
      " 01m13s51  0010  -1.433888e+04   2.228949e-06 \n",
      "Runtime:  01m13s51\n",
      "Optimization status: Converged\n",
      "\n",
      "number of points done: 500\n",
      "Running L-BFGS-B (Scipy implementation) Code:\n",
      "  runtime   i      f              |g|        \n",
      "    47s53  0006  -1.424991e+04   5.212340e+03 \n",
      " 14m16s78  0014  -1.425026e+04   2.273781e-05 \n",
      "Runtime:  14m16s78\n",
      "Optimization status: Converged\n",
      "\n",
      "number of points done: 600\n",
      "Running L-BFGS-B (Scipy implementation) Code:\n",
      "  runtime   i      f              |g|        \n",
      "    15s99  0002  -1.074036e+04   6.229511e+07 \n",
      " 01m19s82  0010  -1.430182e+04   3.331419e-02 \n",
      " 01m35s89  0012  -1.430182e+04   1.340868e-04 \n",
      "Runtime:  01m35s89\n",
      "Optimization status: Converged\n",
      "\n",
      "number of points done: 700\n",
      "Running L-BFGS-B (Scipy implementation) Code:\n",
      "  runtime   i      f              |g|        \n",
      "    25s36  0003  -1.418530e+04   6.033121e+04 \n",
      " 01m33s63  0011  -1.419962e+04   6.511737e-03 \n",
      " 01m42s16  0012  -1.419962e+04   6.511737e-03 \n",
      "Runtime:  01m42s16\n",
      "Optimization status: Converged\n",
      "\n",
      "number of points done: 740\n",
      "{0: {33.0: (0.0058619481030223932, 0.0084417622422395151), 34.0: (0.012085139043872279, 0.0065378623486376354), 35.0: (0.024351595502482167, 0.0079064723562332264), 36.0: (0.033699951369659031, 0.014543064386479506), 37.0: (0.052762331290472579, 0.010155760726991798), 38.0: (0.0042529030491555301, 0.0095485356096662796), 39.0: (0.02665735077840143, 0.017093960858003892), 40.0: (0.026797951262902416, 0.029032736388216258), 41.0: (0.015982394327536568, 0.016279568019836304), 42.0: (0.0078234131120537929, 0.0061133665447282949), 'overall': (0.020271948631459071, 0.019813121611143503)}, 100: {33.0: (0.0018732788054928128, 0.0029712442549924846), 34.0: (0.012257219556526569, 0.006486019491414299), 35.0: (0.023861006134494628, 0.0080177568292548532), 36.0: (0.0022350863350382249, 0.0042791238257400468), 37.0: (0.046388273497498161, 0.019445222998897501), 38.0: (0.0042096280159795857, 0.0095202530549769616), 39.0: (0.023980180135665847, 0.014853549378404432), 40.0: (0.027663955413945396, 0.031691208179059911), 41.0: (0.0080077262158020374, 0.0059234544409231963), 42.0: (0.0078642874774148535, 0.0062299376523200587), 'overall': (0.015507148629353849, 0.018908367569826785)}, 200: {33.0: (0.00089259795496972165, 0.0025277128091872334), 34.0: (0.012287208219183745, 0.0065023960975725825), 35.0: (0.023531629003202929, 0.0079577477193338627), 36.0: (0.002231863695095287, 0.0041621855619240981), 37.0: (0.041736810654636754, 0.020898741146535661), 38.0: (0.004221284645775294, 0.0095712793154478382), 39.0: (0.023752161687724996, 0.014988105538145878), 40.0: (0.00022934654270525396, 0.00051962151371992083), 41.0: (0.0062114603482369638, 0.0057049034261513719), 42.0: (0.0078692005574552415, 0.0062423774482792318), 'overall': (0.012155409292948404, 0.015692809767772837)}, 300: {33.0: (0.00083862099289571616, 0.0025324284024280923), 34.0: (0.0091260299869479998, 0.0049604539088101262), 35.0: (0.012583372247255186, 0.0085209476905002916), 36.0: (0.0023719181741855286, 0.0044108583694948489), 37.0: (0.025010721337710162, 0.017237876389051852), 38.0: (0.0042342876691752619, 0.0093476078126420309), 39.0: (0.023387899416662753, 0.015656208260842894), 40.0: (0.0002343362824294065, 0.00056035864323101777), 41.0: (0.0019502253847648778, 0.0024296395305785775), 42.0: (0.0077819808089949439, 0.0062699561557251109), 'overall': (0.0086131813402737078, 0.012146621173751791)}, 400: {33.0: (0.00081305219037608803, 0.0027732546173822475), 34.0: (0.0041062254864357517, 0.003566235085527625), 35.0: (0.0084406225850937096, 0.0074500627584085446), 36.0: (0.00264014987590963, 0.0048258846279556874), 37.0: (0.012943625133315158, 0.012758599072497817), 38.0: (0.0038780047079743111, 0.008740630643616366), 39.0: (0.021867541837636544, 0.016394931273073104), 40.0: (0.00027835492926634868, 0.00067366426410734941), 41.0: (0.0013516381560355285, 0.0021773149529970286), 42.0: (0.007055071146846466, 0.0057401484209512153), 'overall': (0.006213600879668945, 0.010072012236567585)}, 500: {33.0: (0.00086163784761448235, 0.0030149835426651942), 34.0: (0.0030344103548131233, 0.0030928944722759776), 35.0: (0.004756052186384729, 0.0051740360715681454), 36.0: (0.0029384391216756203, 0.0052024534297435083), 37.0: (0.0069350046868092933, 0.0081718624466789198), 38.0: (0.0030801520194392706, 0.0069060188954764949), 39.0: (0.02019413289431277, 0.016704120346813053), 40.0: (0.00031860782323607474, 0.00077212810596870502), 41.0: (0.0013897335814696586, 0.0023078032790950832), 42.0: (0.0049044117848056163, 0.0045313920530587115), 'overall': (0.004736724007007794, 0.0087159229043085769)}, 600: {33.0: (0.00080885091546058056, 0.002905708355115577), 34.0: (0.0021892264283938007, 0.0026269801606818625), 35.0: (0.0035800687914436581, 0.0045127142922246899), 36.0: (0.0027772131724332887, 0.0049868064291768589), 37.0: (0.0060880830064994106, 0.0074309908166307649), 38.0: (0.0030199530258878723, 0.0067450559447055384), 39.0: (0.016555067897896736, 0.01634001055445776), 40.0: (0.00032085318332961078, 0.00075159032831947491), 41.0: (0.0012655020192208852, 0.0021667549693754604), 42.0: (0.0044081508412075303, 0.0040712154759692115), 'overall': (0.0040110470259361302, 0.0078983964254969695)}, 700: {33.0: (0.00077992660633058764, 0.0027850693533215056), 34.0: (0.002064523990383101, 0.0024980725941598659), 35.0: (0.0028931362088412348, 0.004248710504795368), 36.0: (0.0025914739349785386, 0.0047373927153166401), 37.0: (0.0051404191750867943, 0.0062634663295371949), 38.0: (0.0027848526980487377, 0.0062598717489395338), 39.0: (0.012975169449484092, 0.015788641073292312), 40.0: (0.00030883983140990516, 0.00070310882123670064), 41.0: (0.0012878219048461106, 0.0021734748918984339), 42.0: (0.0026487380964688575, 0.0029714782190250178), 'overall': (0.0032742599739780912, 0.0070338225991962303)}}\n"
     ]
    }
   ],
   "source": [
    "###AL1\n",
    "final_results_al1 = {}\n",
    "num_points_to_query = pool_x.shape[0]\n",
    "num_points_before_update = 100\n",
    "i = 0\n",
    "while i < num_points_to_query:\n",
    "    model = train(train_x, train_y, model)\n",
    "    final_results = get_results(model, train_x, train_y, test_x, test_y)\n",
    "    final_results_al1[i] = final_results\n",
    "    j = 0\n",
    "\n",
    "    while j < num_points_before_update and i < num_points_to_query:\n",
    "        pool_prediction, pool_std, model_variance = predict_gp(model, pool_x)\n",
    "        \n",
    "        max_variance_index = np.argmax(pool_std**2)\n",
    "        \n",
    "        max_variance_x = pool_x[max_variance_index, :].reshape(1, train_x.shape[1])\n",
    "        max_variance_y = pool_y[max_variance_index, :].reshape(1, train_y.shape[1])\n",
    "        max_variance_sub_num = pool_sub_num[max_variance_index, :].reshape(1, pool_sub_num.shape[1])\n",
    "        \n",
    "        pool_x = np.delete(pool_x, (max_variance_index), axis=0)\n",
    "        pool_y = np.delete(pool_y, (max_variance_index), axis=0)\n",
    "        pool_sub_num = np.delete(pool_sub_num, (max_variance_index), axis=0)\n",
    "        \n",
    "        train_x = np.concatenate((train_x, max_variance_x), axis=0)\n",
    "        train_y = np.concatenate((train_y, max_variance_y), axis=0)\n",
    "        train_sub_num = np.concatenate((train_sub_num, max_variance_sub_num), axis=0)\n",
    "        \n",
    "        j = j + 1\n",
    "        i = i + 1\n",
    "        \n",
    "    print \"number of points done: \" + str(i) \n",
    "print final_results_al1"
   ]
  },
  {
   "cell_type": "code",
   "execution_count": 22,
   "metadata": {},
   "outputs": [
    {
     "name": "stdout",
     "output_type": "stream",
     "text": [
      "{0: {33.0: (0.0058619216508665386, 0.0084417428450034356), 34.0: (0.012085142797873739, 0.0065378620313843623), 35.0: (0.024351584730638604, 0.007906475158701921), 36.0: (0.033699880215304137, 0.014543067739237149), 37.0: (0.052762320281151853, 0.01015576491309873), 38.0: (0.0042529043194775582, 0.0095485415493390662), 39.0: (0.026657332545918393, 0.017093948391813649), 40.0: (0.026798063476144152, 0.029032874239757273), 41.0: (0.015982368523160723, 0.016279524316108178), 42.0: (0.0078234203398659108, 0.0061133679079156652), 'overall': (0.020271945093568711, 0.019813133849467066)}, 100: {33.0: (0.0018732788054652157, 0.0029712442549556404), 34.0: (0.01225721955654136, 0.0064860194914040555), 35.0: (0.023861006134451239, 0.0080177568292656137), 36.0: (0.0022350863350023447, 0.0042791238256854889), 37.0: (0.046388273497455397, 0.019445222998890007), 38.0: (0.0042096280159692624, 0.0095202530549496431), 39.0: (0.023980180135600493, 0.014853549378364509), 40.0: (0.027663955414234723, 0.031691208179364813), 41.0: (0.0080077262157705539, 0.0059234544409127185), 42.0: (0.0078642874774245593, 0.0062299376523117008), 'overall': (0.015507148629358595, 0.018908367569878747)}, 200: {33.0: (0.00089259795496986346, 0.0025277128091877378), 34.0: (0.012287208219182394, 0.0065023960975728835), 35.0: (0.023531629003202312, 0.0079577477193340431), 36.0: (0.0022318636950958417, 0.0041621855619249654), 37.0: (0.041736810654636969, 0.020898741146535661), 38.0: (0.0042212846457755603, 0.0095712793154487715), 39.0: (0.023752161687723854, 0.014988105538146499), 40.0: (0.00022934654270528412, 0.00051962151372001136), 41.0: (0.006211460348237152, 0.0057049034261515323), 42.0: (0.0078692005574546309, 0.0062423774482795822), 'overall': (0.012155409292948158, 0.015692809767772885)}, 300: {33.0: (0.00083862099289571084, 0.0025324284024280976), 34.0: (0.0091260299869485202, 0.0049604539088099527), 35.0: (0.012583372247255866, 0.0085209476905009334), 36.0: (0.0023719181741855338, 0.0044108583694948576), 37.0: (0.025010721337710148, 0.017237876389051818), 38.0: (0.0042342876691755862, 0.0093476078126425808), 39.0: (0.023387899416663086, 0.01565620826084349), 40.0: (0.00023433628242940845, 0.00056035864323102091), 41.0: (0.0019502253847648637, 0.0024296395305785719), 42.0: (0.0077819808089947375, 0.0062699561557246833), 'overall': (0.0086131813402739107, 0.012146621173752016)}, 400: {33.0: (0.00081305219037608358, 0.00277325461738227), 34.0: (0.0041062254864359547, 0.0035662350855281718), 35.0: (0.0084406225850934199, 0.0074500627584084102), 36.0: (0.0026401498759096617, 0.0048258846279557281), 37.0: (0.012943625133315227, 0.012758599072497896), 38.0: (0.0038780047079742209, 0.0087406306436162377), 39.0: (0.021867541837638827, 0.016394931273073603), 40.0: (0.00027835492926635806, 0.00067366426410735267), 41.0: (0.0013516381560355576, 0.0021773149529970845), 42.0: (0.0070550711468474209, 0.0057401484209512353), 'overall': (0.0062136008796692286, 0.010072012236567961)}, 500: {33.0: (0.00086163784761450599, 0.0030149835426653013), 34.0: (0.0030344103548131779, 0.003092894472276184), 35.0: (0.0047560521863851072, 0.0051740360715683978), 36.0: (0.0029384391216757673, 0.0052024534297437017), 37.0: (0.0069350046868092968, 0.0081718624466790117), 38.0: (0.0030801520194390047, 0.0069060188954762087), 39.0: (0.020194132894313984, 0.016704120346813438), 40.0: (0.00031860782323608064, 0.00077212810596872952), 41.0: (0.0013897335814696337, 0.0023078032790950988), 42.0: (0.0049044117848058271, 0.0045313920530590714), 'overall': (0.0047367240070079614, 0.00871592290430891)}, 600: {33.0: (0.0008088509154605553, 0.0029057083551154322), 34.0: (0.0021892264283936229, 0.002626980160681921), 35.0: (0.0035800687914435761, 0.0045127142922245529), 36.0: (0.0027772131724330949, 0.0049868064291765987), 37.0: (0.0060880830064992944, 0.0074309908166306227), 38.0: (0.003019953025888132, 0.0067450559447058854), 39.0: (0.016555067897896406, 0.016340010554457371), 40.0: (0.00032085318332960753, 0.00075159032831943902), 41.0: (0.0012655020192208508, 0.0021667549693753772), 42.0: (0.0044081508412075684, 0.0040712154759694275), 'overall': (0.0040110470259360478, 0.0078983964254968272)}, 700: {33.0: (0.00077992660633064716, 0.0027850693533217757), 34.0: (0.0020645239903834089, 0.0024980725941602874), 35.0: (0.0028931362088416459, 0.004248710504795911), 36.0: (0.0025914739349788868, 0.0047373927153171206), 37.0: (0.0051404191750865766, 0.0062634663295369382), 38.0: (0.0027848526980482706, 0.0062598717489389648), 39.0: (0.012975169449485263, 0.015788641073292572), 40.0: (0.00030883983140993177, 0.00070310882123677675), 41.0: (0.0012878219048461567, 0.002173474891898567), 42.0: (0.0026487380964695167, 0.0029714782190250269), 'overall': (0.0032742599739783319, 0.0070338225991964758)}}\n"
     ]
    }
   ],
   "source": [
    "print final_results_al1"
   ]
  },
  {
   "cell_type": "code",
   "execution_count": 32,
   "metadata": {
    "collapsed": true
   },
   "outputs": [],
   "source": [
    "train_x, train_y, test_x, test_y, pool_x, pool_y, train_sub_num, test_sub_num, pool_sub_num = load_data(personalize=True)"
   ]
  },
  {
   "cell_type": "code",
   "execution_count": null,
   "metadata": {},
   "outputs": [
    {
     "name": "stdout",
     "output_type": "stream",
     "text": [
      "Running L-BFGS-B (Scipy implementation) Code:\n",
      "  runtime   i      f              |g|        \n",
      "    17s95  0003  -1.361301e+04   1.998111e+05 \n",
      "    41s82  0007  -1.368172e+04   1.407338e+03 "
     ]
    }
   ],
   "source": [
    "###AL2\n",
    "final_results_al2 = {}\n",
    "num_points_to_query = pool_x.shape[0]\n",
    "num_points_before_update = 100\n",
    "i = 0\n",
    "while i < num_points_to_query:\n",
    "    model = train(train_x, train_y, model)\n",
    "    final_results = get_results(model, train_x, train_y, test_x, test_y)\n",
    "    final_results_al2[i] = final_results\n",
    "    j = 0\n",
    "\n",
    "    while j < num_points_before_update and i < num_points_to_query:\n",
    "        pool_prediction, pool_std, model_variance = predict_gp(model, pool_x)\n",
    "        print \n",
    "        max_variance_index = np.argmin((pool_prediction[:, 0].reshape(pool_prediction.shape[0], 1)/(((pool_std**2) + model_variance)**0.5)))\n",
    "        \n",
    "        max_variance_x = pool_x[max_variance_index, :].reshape(1, train_x.shape[1])\n",
    "        max_variance_y = pool_y[max_variance_index, :].reshape(1, train_y.shape[1])\n",
    "        max_variance_sub_num = pool_sub_num[max_variance_index, :].reshape(1, pool_sub_num.shape[1])\n",
    "        \n",
    "        pool_x = np.delete(pool_x, (max_variance_index), axis=0)\n",
    "        pool_y = np.delete(pool_y, (max_variance_index), axis=0)\n",
    "        pool_sub_num = np.delete(pool_sub_num, (max_variance_index), axis=0)\n",
    "        \n",
    "        train_x = np.concatenate((train_x, max_variance_x), axis=0)\n",
    "        train_y = np.concatenate((train_y, max_variance_y), axis=0)\n",
    "        train_sub_num = np.concatenate((train_sub_num, max_variance_sub_num), axis=0)\n",
    "        \n",
    "        j = j + 1\n",
    "        i = i + 1\n",
    "    \n",
    "    print \"number of points done: \" + str(i)\n",
    "print final_results_al2"
   ]
  },
  {
   "cell_type": "code",
   "execution_count": null,
   "metadata": {
    "collapsed": true
   },
   "outputs": [],
   "source": []
  }
 ],
 "metadata": {
  "kernelspec": {
   "display_name": "Python 2",
   "language": "python",
   "name": "python2"
  },
  "language_info": {
   "codemirror_mode": {
    "name": "ipython",
    "version": 2
   },
   "file_extension": ".py",
   "mimetype": "text/x-python",
   "name": "python",
   "nbconvert_exporter": "python",
   "pygments_lexer": "ipython2",
   "version": "2.7.13"
  },
  "widgets": {
   "state": {
    "04421377438f461a991fb1c7474134ca": {
     "views": [
      {
       "cell_index": 10
      }
     ]
    },
    "89c45ed92ab44a65bc5491d98ac01b8b": {
     "views": [
      {
       "cell_index": 12
      }
     ]
    },
    "b0efce50493549109efb13173a344240": {
     "views": [
      {
       "cell_index": 7
      }
     ]
    }
   },
   "version": "1.2.0"
  }
 },
 "nbformat": 4,
 "nbformat_minor": 2
}
